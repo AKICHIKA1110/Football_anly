{
 "cells": [
  {
   "cell_type": "code",
   "execution_count": null,
   "id": "03cc3a84-016d-441f-ad20-d9ee3f8c96c0",
   "metadata": {},
   "outputs": [
    {
     "name": "stdout",
     "output_type": "stream",
     "text": [
      "データが保存されました: ./J1_dataset/J_League_Kobe_Matches_2024.csv\n",
      "データが保存されました: ./J1_dataset/J_League_Uraw_Matches_2024.csv\n",
      "データが保存されました: ./J1_dataset/J_League_Mcd_Matches_2024.csv\n",
      "データが保存されました: ./J1_dataset/J_League_Kasm_Matches_2024.csv\n",
      "データが保存されました: ./J1_dataset/J_League_Fctk_Matches_2024.csv\n",
      "データが保存されました: ./J1_dataset/J_League_G-os_Matches_2024.csv\n",
      "データが保存されました: ./J1_dataset/J_League_C-os_Matches_2024.csv\n",
      "データが保存されました: ./J1_dataset/J_League_Hiro_Matches_2024.csv\n",
      "データが保存されました: ./J1_dataset/J_League_Fuku_Matches_2024.csv\n",
      "データが保存されました: ./J1_dataset/J_League_Nago_Matches_2024.csv\n",
      "データが保存されました: ./J1_dataset/J_League_Tk-v_Matches_2024.csv\n",
      "データが保存されました: ./J1_dataset/J_League_Ka-f_Matches_2024.csv\n",
      "データが保存されました: ./J1_dataset/J_League_Y-fm_Matches_2024.csv\n",
      "データが保存されました: ./J1_dataset/J_League_Kasw_Matches_2024.csv\n",
      "データが保存されました: ./J1_dataset/J_League_Iwat_Matches_2024.csv\n",
      "データが保存されました: ./J1_dataset/J_League_Niig_Matches_2024.csv\n",
      "データが保存されました: ./J1_dataset/J_League_Shon_Matches_2024.csv\n"
     ]
    }
   ],
   "source": [
    "import requests\n",
    "from bs4 import BeautifulSoup\n",
    "import pandas as pd\n",
    "import os\n",
    "\n",
    "def scrape_team_matches(team_name):\n",
    "    # URLをフォーマット\n",
    "    url = f'https://www.football-lab.jp/{team_name}/match'\n",
    "    \n",
    "    # ページからデータを取得\n",
    "    response = requests.get(url)\n",
    "    if response.status_code != 200:\n",
    "        print(f\"ウェブサイトからデータを取得できませんでした: {url}\")\n",
    "        return\n",
    "    \n",
    "    # BeautifulSoupでHTMLを解析\n",
    "    soup = BeautifulSoup(response.content, 'html.parser')\n",
    "    \n",
    "    # テーブルを探す\n",
    "    tables = soup.find_all('table')\n",
    "    if not tables:\n",
    "        print(\"ページ内にテーブルが見つかりませんでした。\")\n",
    "        return\n",
    "    \n",
    "    # 全テーブルのデータを一つのDataFrameに結合\n",
    "    all_matches = pd.DataFrame()\n",
    "    for table in tables:\n",
    "        df = pd.read_html(str(table))[0]\n",
    "        all_matches = pd.concat([all_matches, df], ignore_index=True)\n",
    "    \n",
    "    # 保存先ディレクトリを確認し、存在しなければ作成\n",
    "    save_directory = './J1_dataset/'\n",
    "    if not os.path.exists(save_directory):\n",
    "        os.makedirs(save_directory)\n",
    "    \n",
    "    # DataFrameをCSVに保存\n",
    "    csv_path = f'{save_directory}J_League_{team_name.capitalize()}_Matches_2024.csv'\n",
    "    all_matches.to_csv(csv_path, index=False, encoding='utf-8-sig')\n",
    "    print(f\"データが保存されました: {csv_path}\")\n",
    "\n",
    "# 使用例: チーム名を変えて関数を呼び出す\n",
    "teams = ['kobe', 'uraw', 'mcd', 'kasm', 'fctk', 'g-os', 'c-os', 'hiro', 'fuku', 'nago', 'tk-v', 'ka-f', 'y-fm', 'kasw', 'iwat', 'niig', 'shon', 'tosu', 'kyot', 'sapp']\n",
    "for team in teams:\n",
    "    scrape_team_matches(team)\n"
   ]
  }
 ],
 "metadata": {
  "kernelspec": {
   "display_name": "Python 3 (ipykernel)",
   "language": "python",
   "name": "python3"
  },
  "language_info": {
   "codemirror_mode": {
    "name": "ipython",
    "version": 3
   },
   "file_extension": ".py",
   "mimetype": "text/x-python",
   "name": "python",
   "nbconvert_exporter": "python",
   "pygments_lexer": "ipython3",
   "version": "3.8.18"
  }
 },
 "nbformat": 4,
 "nbformat_minor": 5
}
