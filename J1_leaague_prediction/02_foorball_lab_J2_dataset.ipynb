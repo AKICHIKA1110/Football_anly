{
 "cells": [
  {
   "cell_type": "code",
   "execution_count": 1,
   "id": "1515178e-274d-42b5-bd17-1dffcc943ad4",
   "metadata": {},
   "outputs": [
    {
     "name": "stdout",
     "output_type": "stream",
     "text": [
      "データが保存されました: ./J2_dataset/J2_League_Shim_Matches_2024.csv\n",
      "データが保存されました: ./J2_dataset/J2_League_Ngsk_Matches_2024.csv\n",
      "データが保存されました: ./J2_dataset/J2_League_Send_Matches_2024.csv\n",
      "データが保存されました: ./J2_dataset/J2_League_Y-fc_Matches_2024.csv\n",
      "データが保存されました: ./J2_dataset/J2_League_R-ya_Matches_2024.csv\n",
      "データが保存されました: ./J2_dataset/J2_League_Okay_Matches_2024.csv\n",
      "データが保存されました: ./J2_dataset/J2_League_Ifc_Matches_2024.csv\n",
      "データが保存されました: ./J2_dataset/J2_League_Kofu_Matches_2024.csv\n",
      "データが保存されました: ./J2_dataset/J2_League_Chib_Matches_2024.csv\n",
      "データが保存されました: ./J2_dataset/J2_League_Ehim_Matches_2024.csv\n",
      "データが保存されました: ./J2_dataset/J2_League_Oita_Matches_2024.csv\n",
      "データが保存されました: ./J2_dataset/J2_League_Fuji_Matches_2024.csv\n",
      "データが保存されました: ./J2_dataset/J2_League_Aki_Matches_2024.csv\n",
      "データが保存されました: ./J2_dataset/J2_League_Toku_Matches_2024.csv\n",
      "データが保存されました: ./J2_dataset/J2_League_Mito_Matches_2024.csv\n",
      "データが保存されました: ./J2_dataset/J2_League_Yama_Matches_2024.csv\n",
      "データが保存されました: ./J2_dataset/J2_League_Kuma_Matches_2024.csv\n",
      "データが保存されました: ./J2_dataset/J2_League_Kufc_Matches_2024.csv\n",
      "データが保存されました: ./J2_dataset/J2_League_Toch_Matches_2024.csv\n",
      "データが保存されました: ./J2_dataset/J2_League_Gnm_Matches_2024.csv\n"
     ]
    }
   ],
   "source": [
    "import requests\n",
    "from bs4 import BeautifulSoup\n",
    "import pandas as pd\n",
    "import os\n",
    "\n",
    "def scrape_team_matches(team_name):\n",
    "    # URLをフォーマット\n",
    "    url = f'https://www.football-lab.jp/{team_name}/match'\n",
    "    \n",
    "    # ページからデータを取得\n",
    "    response = requests.get(url)\n",
    "    if response.status_code != 200:\n",
    "        print(f\"ウェブサイトからデータを取得できませんでした: {url}\")\n",
    "        return\n",
    "    \n",
    "    # BeautifulSoupでHTMLを解析\n",
    "    soup = BeautifulSoup(response.content, 'html.parser')\n",
    "    \n",
    "    # テーブルを探す\n",
    "    tables = soup.find_all('table')\n",
    "    if not tables:\n",
    "        print(\"ページ内にテーブルが見つかりませんでした。\")\n",
    "        return\n",
    "    \n",
    "    # 全テーブルのデータを一つのDataFrameに結合\n",
    "    all_matches = pd.DataFrame()\n",
    "    for table in tables:\n",
    "        df = pd.read_html(str(table))[0]\n",
    "        all_matches = pd.concat([all_matches, df], ignore_index=True)\n",
    "    \n",
    "    # 保存先ディレクトリを確認し、存在しなければ作成\n",
    "    save_directory = './J2_dataset/'\n",
    "    if not os.path.exists(save_directory):\n",
    "        os.makedirs(save_directory)\n",
    "    \n",
    "    # DataFrameをCSVに保存\n",
    "    csv_path = f'{save_directory}J2_League_{team_name.capitalize()}_Matches_2024.csv'\n",
    "    all_matches.to_csv(csv_path, index=False, encoding='utf-8-sig')\n",
    "    print(f\"データが保存されました: {csv_path}\")\n",
    "\n",
    "# チーム名を変えて関数を呼び出す\n",
    "teams = ['shim', 'ngsk', 'send', 'y-fc', 'r-ya', 'okay', 'ifc', 'kofu', 'chib', 'ehim', 'oita', 'fuji', 'aki', 'toku', 'mito', 'yama', 'kuma', 'kufc', 'toch', 'gnm']\n",
    "for team in teams:\n",
    "    scrape_team_matches(team)\n"
   ]
  }
 ],
 "metadata": {
  "kernelspec": {
   "display_name": "Python 3 (ipykernel)",
   "language": "python",
   "name": "python3"
  },
  "language_info": {
   "codemirror_mode": {
    "name": "ipython",
    "version": 3
   },
   "file_extension": ".py",
   "mimetype": "text/x-python",
   "name": "python",
   "nbconvert_exporter": "python",
   "pygments_lexer": "ipython3",
   "version": "3.8.18"
  }
 },
 "nbformat": 4,
 "nbformat_minor": 5
}
